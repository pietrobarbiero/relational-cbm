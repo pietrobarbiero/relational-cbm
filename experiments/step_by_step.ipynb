{
 "cells": [
  {
   "cell_type": "markdown",
   "id": "2b3eeeb22d241069",
   "metadata": {
    "collapsed": false,
    "jupyter": {
     "outputs_hidden": false
    }
   },
   "source": [
    "# Relational Concept Bottleneck Models"
   ]
  },
  {
   "cell_type": "markdown",
   "id": "26912dbf82dcbc8",
   "metadata": {
    "collapsed": false,
    "jupyter": {
     "outputs_hidden": false
    }
   },
   "source": [
    "First of all we need to create a dataset. For this we will use a Hanoi dataset."
   ]
  },
  {
   "cell_type": "code",
   "execution_count": 134,
   "id": "18aa453c-11b3-4adf-aba6-3ca8d7decfdc",
   "metadata": {},
   "outputs": [],
   "source": [
    "import sys\n",
    "sys.path.append('..')\n",
    "import torch"
   ]
  },
  {
   "cell_type": "code",
   "execution_count": 298,
   "id": "ce8e7bb3-9619-4297-a81a-d053dacde3b0",
   "metadata": {},
   "outputs": [],
   "source": [
    "from datasets.hanoi import hanoi_toy_dataset\n",
    "n_samples = 3\n",
    "n_positions = 7\n",
    "n_disks = 3\n",
    "n_sizes = 4\n",
    "random_seed = 42\n",
    "fold = 1\n",
    "X, labels_concepts, labels_tasks, q_names, tower_ids = hanoi_toy_dataset(\n",
    "        mode='relational', n_samples=n_samples, random_seed=random_seed + fold,\n",
    "        n_positions=n_positions, n_disks=n_disks, n_sizes=n_sizes)"
   ]
  },
  {
   "cell_type": "markdown",
   "id": "c4634311-2e70-4266-83a8-4ea43b374bdb",
   "metadata": {},
   "source": [
    "We inspect the data:"
   ]
  },
  {
   "cell_type": "code",
   "execution_count": 299,
   "id": "eb3221db-71df-44fe-8823-f1e98584e898",
   "metadata": {},
   "outputs": [
    {
     "data": {
      "text/plain": [
       "[['0', '1', '2'], ['3', '4', '5'], ['6', '7', '8']]"
      ]
     },
     "execution_count": 299,
     "metadata": {},
     "output_type": "execute_result"
    }
   ],
   "source": [
    "tower_ids"
   ]
  },
  {
   "cell_type": "code",
   "execution_count": 300,
   "id": "7e16e0c0-089d-4e33-b0da-eba711859750",
   "metadata": {},
   "outputs": [
    {
     "data": {
      "text/plain": [
       "['top(0,1)',\n",
       " 'top(0,2)',\n",
       " 'top(1,0)',\n",
       " 'top(1,2)',\n",
       " 'top(2,0)',\n",
       " 'top(2,1)',\n",
       " 'top(3,4)',\n",
       " 'top(3,5)',\n",
       " 'top(4,3)',\n",
       " 'top(4,5)',\n",
       " 'top(5,3)',\n",
       " 'top(5,4)',\n",
       " 'top(6,7)',\n",
       " 'top(6,8)',\n",
       " 'top(7,6)',\n",
       " 'top(7,8)',\n",
       " 'top(8,6)',\n",
       " 'top(8,7)',\n",
       " 'larger(0,1)',\n",
       " 'larger(0,2)',\n",
       " 'larger(1,0)',\n",
       " 'larger(1,2)',\n",
       " 'larger(2,0)',\n",
       " 'larger(2,1)',\n",
       " 'larger(3,4)',\n",
       " 'larger(3,5)',\n",
       " 'larger(4,3)',\n",
       " 'larger(4,5)',\n",
       " 'larger(5,3)',\n",
       " 'larger(5,4)',\n",
       " 'larger(6,7)',\n",
       " 'larger(6,8)',\n",
       " 'larger(7,6)',\n",
       " 'larger(7,8)',\n",
       " 'larger(8,6)',\n",
       " 'larger(8,7)']"
      ]
     },
     "execution_count": 300,
     "metadata": {},
     "output_type": "execute_result"
    }
   ],
   "source": [
    "q_names['concepts']"
   ]
  },
  {
   "cell_type": "code",
   "execution_count": 301,
   "id": "49e037bb-64db-4c48-9ffa-bc2b5e938152",
   "metadata": {},
   "outputs": [
    {
     "data": {
      "text/plain": [
       "['correct(1)', 'correct(4)', 'correct(7)']"
      ]
     },
     "execution_count": 301,
     "metadata": {},
     "output_type": "execute_result"
    }
   ],
   "source": [
    "q_names['tasks'][:10]"
   ]
  },
  {
   "cell_type": "code",
   "execution_count": 302,
   "id": "0c5370c8-5eb7-4a17-8d23-1d3f2002a90a",
   "metadata": {},
   "outputs": [
    {
     "name": "stdout",
     "output_type": "stream",
     "text": [
      "torch.Size([1, 9, 2])\n"
     ]
    },
    {
     "data": {
      "text/plain": [
       "tensor([[[0.0149, 3.0075],\n",
       "         [1.0172, 2.0045],\n",
       "         [2.0811, 1.0612],\n",
       "         [3.0011, 0.0556],\n",
       "         [4.0468, 3.0650],\n",
       "         [5.0955, 1.0581],\n",
       "         [0.0653, 1.0874],\n",
       "         [1.0621, 2.0555],\n",
       "         [2.0404, 0.0429]]])"
      ]
     },
     "execution_count": 302,
     "metadata": {},
     "output_type": "execute_result"
    }
   ],
   "source": [
    "# these are input features (first feature: disk size, second feature: height)\n",
    "print(X.shape)\n",
    "X"
   ]
  },
  {
   "cell_type": "code",
   "execution_count": 303,
   "id": "de9ef59b-d2cc-4f4e-b878-c231617e5155",
   "metadata": {},
   "outputs": [
    {
     "name": "stdout",
     "output_type": "stream",
     "text": [
      "torch.Size([1, 36]) 36\n"
     ]
    },
    {
     "data": {
      "text/plain": [
       "(tensor([[0., 0., 1., 0., 0., 1., 0., 0., 1., 0., 0., 1., 0., 0., 1., 0., 0., 1.,\n",
       "          1., 1., 0., 1., 0., 0., 0., 0., 1., 1., 1., 0., 0., 1., 1., 1., 0., 0.]]),\n",
       " ['top(0,1)',\n",
       "  'top(0,2)',\n",
       "  'top(1,0)',\n",
       "  'top(1,2)',\n",
       "  'top(2,0)',\n",
       "  'top(2,1)',\n",
       "  'top(3,4)',\n",
       "  'top(3,5)',\n",
       "  'top(4,3)',\n",
       "  'top(4,5)',\n",
       "  'top(5,3)',\n",
       "  'top(5,4)',\n",
       "  'top(6,7)',\n",
       "  'top(6,8)',\n",
       "  'top(7,6)',\n",
       "  'top(7,8)',\n",
       "  'top(8,6)',\n",
       "  'top(8,7)',\n",
       "  'larger(0,1)',\n",
       "  'larger(0,2)',\n",
       "  'larger(1,0)',\n",
       "  'larger(1,2)',\n",
       "  'larger(2,0)',\n",
       "  'larger(2,1)',\n",
       "  'larger(3,4)',\n",
       "  'larger(3,5)',\n",
       "  'larger(4,3)',\n",
       "  'larger(4,5)',\n",
       "  'larger(5,3)',\n",
       "  'larger(5,4)',\n",
       "  'larger(6,7)',\n",
       "  'larger(6,8)',\n",
       "  'larger(7,6)',\n",
       "  'larger(7,8)',\n",
       "  'larger(8,6)',\n",
       "  'larger(8,7)'])"
      ]
     },
     "execution_count": 303,
     "metadata": {},
     "output_type": "execute_result"
    }
   ],
   "source": [
    "# these are concept labels to predict\n",
    "print(labels_concepts.shape, len(q_names['concepts']))\n",
    "labels_concepts, q_names['concepts']"
   ]
  },
  {
   "cell_type": "code",
   "execution_count": 304,
   "id": "24175d66-bcc3-4b2f-945b-15ef845d2fab",
   "metadata": {},
   "outputs": [
    {
     "name": "stdout",
     "output_type": "stream",
     "text": [
      "torch.Size([1, 3]) 3\n"
     ]
    },
    {
     "data": {
      "text/plain": [
       "(tensor([[1., 0., 0.]]), ['correct(1)', 'correct(4)', 'correct(7)'])"
      ]
     },
     "execution_count": 304,
     "metadata": {},
     "output_type": "execute_result"
    }
   ],
   "source": [
    "# these are class labels to predict (same as concept labels!)\n",
    "print(labels_tasks.shape, len(q_names['tasks']))\n",
    "labels_tasks, q_names['tasks']"
   ]
  },
  {
   "cell_type": "markdown",
   "id": "f5ce16fe-2825-4c05-a303-05e7eb581c85",
   "metadata": {},
   "source": [
    "Create a domain of disks:"
   ]
  },
  {
   "cell_type": "code",
   "execution_count": 305,
   "id": "e632e1ab-f017-481a-947d-fbdb24412a4a",
   "metadata": {},
   "outputs": [
    {
     "name": "stdout",
     "output_type": "stream",
     "text": [
      "Number of constants: 9\n"
     ]
    },
    {
     "data": {
      "text/plain": [
       "(9, ['0', '1', '2', '3', '4', '5', '6', '7', '8'])"
      ]
     },
     "execution_count": 305,
     "metadata": {},
     "output_type": "execute_result"
    }
   ],
   "source": [
    "from rcbm.logic.commons import Domain\n",
    "n_samples = X.shape[1]\n",
    "n_features = X.shape[2]\n",
    "disks = Domain(\"disks\", [f'{i}' for i in torch.arange(X.shape[1]).tolist()])\n",
    "print(f'Number of constants: {len(disks.constants)}')\n",
    "n_samples, disks.constants"
   ]
  },
  {
   "cell_type": "code",
   "execution_count": 306,
   "id": "85798d5d-7b33-458a-85c5-a65ad8523c03",
   "metadata": {},
   "outputs": [
    {
     "data": {
      "text/plain": [
       "[('top', 'X', 'Y'),\n",
       " ('top', 'Y', 'X'),\n",
       " ('top', 'X', 'Z'),\n",
       " ('top', 'Z', 'X'),\n",
       " ('top', 'Y', 'Z'),\n",
       " ('top', 'Z', 'Y'),\n",
       " ('larger', 'X', 'Y'),\n",
       " ('larger', 'Y', 'X'),\n",
       " ('larger', 'X', 'Z'),\n",
       " ('larger', 'Z', 'X'),\n",
       " ('larger', 'Y', 'Z'),\n",
       " ('larger', 'Z', 'Y')]"
      ]
     },
     "execution_count": 306,
     "metadata": {},
     "output_type": "execute_result"
    }
   ],
   "source": [
    "from rcbm.logic.commons import Rule\n",
    "body = [\n",
    "    'top(X,Y)', 'top(Y,X)', 'top(X,Z)', 'top(Z,X)', 'top(Y,Z)', 'top(Z,Y)',\n",
    "    'larger(X,Y)', 'larger(Y,X)', 'larger(X,Z)', 'larger(Z,X)', 'larger(Y,Z)', 'larger(Z,Y)',\n",
    "]\n",
    "head = [\"correct(X)\"]\n",
    "rule = Rule(\"phi\", body=body, head=head, var2domain={\"X\": \"disks\", \"Y\": \"disks\", \"Z\": \"disks\"})\n",
    "\n",
    "rule.body"
   ]
  },
  {
   "cell_type": "code",
   "execution_count": 307,
   "id": "86075f03-8f48-4ff0-8e21-10ac9ebac40f",
   "metadata": {},
   "outputs": [
    {
     "data": {
      "text/plain": [
       "[('correct', 'X')]"
      ]
     },
     "execution_count": 307,
     "metadata": {},
     "output_type": "execute_result"
    }
   ],
   "source": [
    "rule.head"
   ]
  },
  {
   "cell_type": "code",
   "execution_count": 308,
   "id": "61b0ca26-3259-44fb-97d9-f2c9497d2f3a",
   "metadata": {},
   "outputs": [
    {
     "data": {
      "text/plain": [
       "[((('correct', '2'),),\n",
       "  (('top', '2', '1'),\n",
       "   ('top', '1', '2'),\n",
       "   ('top', '2', '0'),\n",
       "   ('top', '0', '2'),\n",
       "   ('top', '1', '0'),\n",
       "   ('top', '0', '1'),\n",
       "   ('larger', '2', '1'),\n",
       "   ('larger', '1', '2'),\n",
       "   ('larger', '2', '0'),\n",
       "   ('larger', '0', '2'),\n",
       "   ('larger', '1', '0'),\n",
       "   ('larger', '0', '1'))),\n",
       " ((('correct', '7'),),\n",
       "  (('top', '7', '8'),\n",
       "   ('top', '8', '7'),\n",
       "   ('top', '7', '6'),\n",
       "   ('top', '6', '7'),\n",
       "   ('top', '8', '6'),\n",
       "   ('top', '6', '8'),\n",
       "   ('larger', '7', '8'),\n",
       "   ('larger', '8', '7'),\n",
       "   ('larger', '7', '6'),\n",
       "   ('larger', '6', '7'),\n",
       "   ('larger', '8', '6'),\n",
       "   ('larger', '6', '8'))),\n",
       " ((('correct', '3'),),\n",
       "  (('top', '3', '5'),\n",
       "   ('top', '5', '3'),\n",
       "   ('top', '3', '4'),\n",
       "   ('top', '4', '3'),\n",
       "   ('top', '5', '4'),\n",
       "   ('top', '4', '5'),\n",
       "   ('larger', '3', '5'),\n",
       "   ('larger', '5', '3'),\n",
       "   ('larger', '3', '4'),\n",
       "   ('larger', '4', '3'),\n",
       "   ('larger', '5', '4'),\n",
       "   ('larger', '4', '5'))),\n",
       " ((('correct', '6'),),\n",
       "  (('top', '6', '8'),\n",
       "   ('top', '8', '6'),\n",
       "   ('top', '6', '7'),\n",
       "   ('top', '7', '6'),\n",
       "   ('top', '8', '7'),\n",
       "   ('top', '7', '8'),\n",
       "   ('larger', '6', '8'),\n",
       "   ('larger', '8', '6'),\n",
       "   ('larger', '6', '7'),\n",
       "   ('larger', '7', '6'),\n",
       "   ('larger', '8', '7'),\n",
       "   ('larger', '7', '8'))),\n",
       " ((('correct', '8'),),\n",
       "  (('top', '8', '7'),\n",
       "   ('top', '7', '8'),\n",
       "   ('top', '8', '6'),\n",
       "   ('top', '6', '8'),\n",
       "   ('top', '7', '6'),\n",
       "   ('top', '6', '7'),\n",
       "   ('larger', '8', '7'),\n",
       "   ('larger', '7', '8'),\n",
       "   ('larger', '8', '6'),\n",
       "   ('larger', '6', '8'),\n",
       "   ('larger', '7', '6'),\n",
       "   ('larger', '6', '7'))),\n",
       " ((('correct', '0'),),\n",
       "  (('top', '0', '1'),\n",
       "   ('top', '1', '0'),\n",
       "   ('top', '0', '2'),\n",
       "   ('top', '2', '0'),\n",
       "   ('top', '1', '2'),\n",
       "   ('top', '2', '1'),\n",
       "   ('larger', '0', '1'),\n",
       "   ('larger', '1', '0'),\n",
       "   ('larger', '0', '2'),\n",
       "   ('larger', '2', '0'),\n",
       "   ('larger', '1', '2'),\n",
       "   ('larger', '2', '1'))),\n",
       " ((('correct', '4'),),\n",
       "  (('top', '4', '5'),\n",
       "   ('top', '5', '4'),\n",
       "   ('top', '4', '3'),\n",
       "   ('top', '3', '4'),\n",
       "   ('top', '5', '3'),\n",
       "   ('top', '3', '5'),\n",
       "   ('larger', '4', '5'),\n",
       "   ('larger', '5', '4'),\n",
       "   ('larger', '4', '3'),\n",
       "   ('larger', '3', '4'),\n",
       "   ('larger', '5', '3'),\n",
       "   ('larger', '3', '5'))),\n",
       " ((('correct', '4'),),\n",
       "  (('top', '4', '3'),\n",
       "   ('top', '3', '4'),\n",
       "   ('top', '4', '5'),\n",
       "   ('top', '5', '4'),\n",
       "   ('top', '3', '5'),\n",
       "   ('top', '5', '3'),\n",
       "   ('larger', '4', '3'),\n",
       "   ('larger', '3', '4'),\n",
       "   ('larger', '4', '5'),\n",
       "   ('larger', '5', '4'),\n",
       "   ('larger', '3', '5'),\n",
       "   ('larger', '5', '3'))),\n",
       " ((('correct', '5'),),\n",
       "  (('top', '5', '3'),\n",
       "   ('top', '3', '5'),\n",
       "   ('top', '5', '4'),\n",
       "   ('top', '4', '5'),\n",
       "   ('top', '3', '4'),\n",
       "   ('top', '4', '3'),\n",
       "   ('larger', '5', '3'),\n",
       "   ('larger', '3', '5'),\n",
       "   ('larger', '5', '4'),\n",
       "   ('larger', '4', '5'),\n",
       "   ('larger', '3', '4'),\n",
       "   ('larger', '4', '3'))),\n",
       " ((('correct', '0'),),\n",
       "  (('top', '0', '2'),\n",
       "   ('top', '2', '0'),\n",
       "   ('top', '0', '1'),\n",
       "   ('top', '1', '0'),\n",
       "   ('top', '2', '1'),\n",
       "   ('top', '1', '2'),\n",
       "   ('larger', '0', '2'),\n",
       "   ('larger', '2', '0'),\n",
       "   ('larger', '0', '1'),\n",
       "   ('larger', '1', '0'),\n",
       "   ('larger', '2', '1'),\n",
       "   ('larger', '1', '2'))),\n",
       " ((('correct', '6'),),\n",
       "  (('top', '6', '7'),\n",
       "   ('top', '7', '6'),\n",
       "   ('top', '6', '8'),\n",
       "   ('top', '8', '6'),\n",
       "   ('top', '7', '8'),\n",
       "   ('top', '8', '7'),\n",
       "   ('larger', '6', '7'),\n",
       "   ('larger', '7', '6'),\n",
       "   ('larger', '6', '8'),\n",
       "   ('larger', '8', '6'),\n",
       "   ('larger', '7', '8'),\n",
       "   ('larger', '8', '7'))),\n",
       " ((('correct', '8'),),\n",
       "  (('top', '8', '6'),\n",
       "   ('top', '6', '8'),\n",
       "   ('top', '8', '7'),\n",
       "   ('top', '7', '8'),\n",
       "   ('top', '6', '7'),\n",
       "   ('top', '7', '6'),\n",
       "   ('larger', '8', '6'),\n",
       "   ('larger', '6', '8'),\n",
       "   ('larger', '8', '7'),\n",
       "   ('larger', '7', '8'),\n",
       "   ('larger', '6', '7'),\n",
       "   ('larger', '7', '6'))),\n",
       " ((('correct', '3'),),\n",
       "  (('top', '3', '4'),\n",
       "   ('top', '4', '3'),\n",
       "   ('top', '3', '5'),\n",
       "   ('top', '5', '3'),\n",
       "   ('top', '4', '5'),\n",
       "   ('top', '5', '4'),\n",
       "   ('larger', '3', '4'),\n",
       "   ('larger', '4', '3'),\n",
       "   ('larger', '3', '5'),\n",
       "   ('larger', '5', '3'),\n",
       "   ('larger', '4', '5'),\n",
       "   ('larger', '5', '4'))),\n",
       " ((('correct', '5'),),\n",
       "  (('top', '5', '4'),\n",
       "   ('top', '4', '5'),\n",
       "   ('top', '5', '3'),\n",
       "   ('top', '3', '5'),\n",
       "   ('top', '4', '3'),\n",
       "   ('top', '3', '4'),\n",
       "   ('larger', '5', '4'),\n",
       "   ('larger', '4', '5'),\n",
       "   ('larger', '5', '3'),\n",
       "   ('larger', '3', '5'),\n",
       "   ('larger', '4', '3'),\n",
       "   ('larger', '3', '4'))),\n",
       " ((('correct', '2'),),\n",
       "  (('top', '2', '0'),\n",
       "   ('top', '0', '2'),\n",
       "   ('top', '2', '1'),\n",
       "   ('top', '1', '2'),\n",
       "   ('top', '0', '1'),\n",
       "   ('top', '1', '0'),\n",
       "   ('larger', '2', '0'),\n",
       "   ('larger', '0', '2'),\n",
       "   ('larger', '2', '1'),\n",
       "   ('larger', '1', '2'),\n",
       "   ('larger', '0', '1'),\n",
       "   ('larger', '1', '0'))),\n",
       " ((('correct', '1'),),\n",
       "  (('top', '1', '0'),\n",
       "   ('top', '0', '1'),\n",
       "   ('top', '1', '2'),\n",
       "   ('top', '2', '1'),\n",
       "   ('top', '0', '2'),\n",
       "   ('top', '2', '0'),\n",
       "   ('larger', '1', '0'),\n",
       "   ('larger', '0', '1'),\n",
       "   ('larger', '1', '2'),\n",
       "   ('larger', '2', '1'),\n",
       "   ('larger', '0', '2'),\n",
       "   ('larger', '2', '0'))),\n",
       " ((('correct', '1'),),\n",
       "  (('top', '1', '2'),\n",
       "   ('top', '2', '1'),\n",
       "   ('top', '1', '0'),\n",
       "   ('top', '0', '1'),\n",
       "   ('top', '2', '0'),\n",
       "   ('top', '0', '2'),\n",
       "   ('larger', '1', '2'),\n",
       "   ('larger', '2', '1'),\n",
       "   ('larger', '1', '0'),\n",
       "   ('larger', '0', '1'),\n",
       "   ('larger', '2', '0'),\n",
       "   ('larger', '0', '2'))),\n",
       " ((('correct', '7'),),\n",
       "  (('top', '7', '6'),\n",
       "   ('top', '6', '7'),\n",
       "   ('top', '7', '8'),\n",
       "   ('top', '8', '7'),\n",
       "   ('top', '6', '8'),\n",
       "   ('top', '8', '6'),\n",
       "   ('larger', '7', '6'),\n",
       "   ('larger', '6', '7'),\n",
       "   ('larger', '7', '8'),\n",
       "   ('larger', '8', '7'),\n",
       "   ('larger', '6', '8'),\n",
       "   ('larger', '8', '6')))]"
      ]
     },
     "execution_count": 308,
     "metadata": {},
     "output_type": "execute_result"
    }
   ],
   "source": [
    "from rcbm.logic.grounding import DomainGrounder\n",
    "grounder = DomainGrounder({\"disks\": disks.constants}, [rule], manifolds_per_rule={\"phi\": tower_ids})\n",
    "groundings = grounder.ground()\n",
    "groundings['phi'][0]\n",
    "# notice we have 2 instances of ground rules for each disk!\n",
    "# in fact we have 2 possible substitutions for each disk X: (Y,Z) or (Z,Y)"
   ]
  },
  {
   "cell_type": "code",
   "execution_count": 309,
   "id": "28cbdcef-8694-4baf-b890-0bb85e6f632a",
   "metadata": {},
   "outputs": [
    {
     "data": {
      "text/plain": [
       "OrderedDict([(('correct', '0'), 0),\n",
       "             (('correct', '1'), 1),\n",
       "             (('correct', '2'), 2),\n",
       "             (('correct', '3'), 3),\n",
       "             (('correct', '4'), 4),\n",
       "             (('correct', '5'), 5),\n",
       "             (('correct', '6'), 6),\n",
       "             (('correct', '7'), 7),\n",
       "             (('correct', '8'), 8),\n",
       "             (('larger', '0', '1'), 9),\n",
       "             (('larger', '0', '2'), 10),\n",
       "             (('larger', '1', '0'), 11),\n",
       "             (('larger', '1', '2'), 12),\n",
       "             (('larger', '2', '0'), 13),\n",
       "             (('larger', '2', '1'), 14),\n",
       "             (('larger', '3', '4'), 15),\n",
       "             (('larger', '3', '5'), 16),\n",
       "             (('larger', '4', '3'), 17),\n",
       "             (('larger', '4', '5'), 18),\n",
       "             (('larger', '5', '3'), 19),\n",
       "             (('larger', '5', '4'), 20),\n",
       "             (('larger', '6', '7'), 21),\n",
       "             (('larger', '6', '8'), 22),\n",
       "             (('larger', '7', '6'), 23),\n",
       "             (('larger', '7', '8'), 24),\n",
       "             (('larger', '8', '6'), 25),\n",
       "             (('larger', '8', '7'), 26),\n",
       "             (('top', '0', '1'), 27),\n",
       "             (('top', '0', '2'), 28),\n",
       "             (('top', '1', '0'), 29),\n",
       "             (('top', '1', '2'), 30),\n",
       "             (('top', '2', '0'), 31),\n",
       "             (('top', '2', '1'), 32),\n",
       "             (('top', '3', '4'), 33),\n",
       "             (('top', '3', '5'), 34),\n",
       "             (('top', '4', '3'), 35),\n",
       "             (('top', '4', '5'), 36),\n",
       "             (('top', '5', '3'), 37),\n",
       "             (('top', '5', '4'), 38),\n",
       "             (('top', '6', '7'), 39),\n",
       "             (('top', '6', '8'), 40),\n",
       "             (('top', '7', '6'), 41),\n",
       "             (('top', '7', '8'), 42),\n",
       "             (('top', '8', '6'), 43),\n",
       "             (('top', '8', '7'), 44)])"
      ]
     },
     "execution_count": 309,
     "metadata": {},
     "output_type": "execute_result"
    }
   ],
   "source": [
    "from rcbm.logic.indexing import DictBasedIndexer\n",
    "from rcbm.logic.semantics import GodelTNorm\n",
    "logic = GodelTNorm()\n",
    "indexer = DictBasedIndexer(grounder.ground(), q_names, logic=logic)\n",
    "indexer.atom_index"
   ]
  },
  {
   "cell_type": "code",
   "execution_count": 310,
   "id": "89c99892-69bf-49fe-97d3-ec79b9f84bab",
   "metadata": {},
   "outputs": [
    {
     "data": {
      "text/plain": [
       "(36, 3)"
      ]
     },
     "execution_count": 310,
     "metadata": {},
     "output_type": "execute_result"
    }
   ],
   "source": [
    "len(indexer.indexed_queries['concepts']), len(indexer.indexed_queries['tasks'])"
   ]
  },
  {
   "cell_type": "code",
   "execution_count": 311,
   "id": "4a7759dd-1d2b-474f-9642-ad375cd3d009",
   "metadata": {},
   "outputs": [
    {
     "data": {
      "text/plain": [
       "Sequential(\n",
       "  (0): Sequential(\n",
       "    (0): Linear(in_features=2, out_features=16, bias=True)\n",
       "    (1): LeakyReLU(negative_slope=0.01)\n",
       "  )\n",
       "  (1): Sequential(\n",
       "    (0): Linear(in_features=16, out_features=16, bias=True)\n",
       "    (1): LeakyReLU(negative_slope=0.01)\n",
       "    (2): Linear(in_features=16, out_features=1, bias=True)\n",
       "    (3): Sigmoid()\n",
       "  )\n",
       "  (2): Sequential(\n",
       "    (0): Linear(in_features=32, out_features=16, bias=True)\n",
       "    (1): LeakyReLU(negative_slope=0.01)\n",
       "    (2): Linear(in_features=16, out_features=1, bias=True)\n",
       "    (3): Sigmoid()\n",
       "  )\n",
       "  (3): Sequential(\n",
       "    (0): Linear(in_features=32, out_features=16, bias=True)\n",
       "    (1): LeakyReLU(negative_slope=0.01)\n",
       "    (2): Linear(in_features=16, out_features=1, bias=True)\n",
       "    (3): Sigmoid()\n",
       "  )\n",
       "  (4): Sequential(\n",
       "    (0): Linear(in_features=12, out_features=16, bias=True)\n",
       "    (1): LeakyReLU(negative_slope=0.01)\n",
       "    (2): Linear(in_features=16, out_features=1, bias=True)\n",
       "    (3): Sigmoid()\n",
       "  )\n",
       ")"
      ]
     },
     "execution_count": 311,
     "metadata": {},
     "output_type": "execute_result"
    }
   ],
   "source": [
    "emb_size = 16\n",
    "n_concepts = len(rule.body)\n",
    "n_classes = len(rule.head)\n",
    "\n",
    "encoder = torch.nn.Sequential(\n",
    "    torch.nn.Linear(n_features, emb_size),\n",
    "    torch.nn.LeakyReLU(),\n",
    ")\n",
    "relation_classifiers = {}\n",
    "for relation_name, relation_arity in indexer.relations_arity.items():\n",
    "    relation_classifiers[relation_name] = torch.nn.Sequential(\n",
    "        torch.nn.Linear(emb_size * relation_arity, emb_size), # notice different input size depending on relation arity!\n",
    "        torch.nn.LeakyReLU(),\n",
    "        torch.nn.Linear(emb_size, 1),\n",
    "        torch.nn.Sigmoid()\n",
    "    )\n",
    "reasoner = torch.nn.Sequential(\n",
    "    torch.nn.Linear(n_concepts, emb_size),\n",
    "    torch.nn.LeakyReLU(),\n",
    "    torch.nn.Linear(emb_size, n_classes),\n",
    "    torch.nn.Sigmoid()\n",
    ")\n",
    "model = torch.nn.Sequential(encoder, *relation_classifiers.values(), reasoner)\n",
    "model"
   ]
  },
  {
   "cell_type": "markdown",
   "id": "bce79a2d-d41e-4805-888d-d2f1def2f05c",
   "metadata": {},
   "source": [
    "## Training"
   ]
  },
  {
   "cell_type": "code",
   "execution_count": 312,
   "id": "5cb5debc-063e-446e-9224-bce2244c05f9",
   "metadata": {},
   "outputs": [
    {
     "data": {
      "text/plain": [
       "torch.Size([9, 16])"
      ]
     },
     "execution_count": 312,
     "metadata": {},
     "output_type": "execute_result"
    }
   ],
   "source": [
    "embeddings = encoder(X.squeeze())\n",
    "embeddings.shape"
   ]
  },
  {
   "cell_type": "code",
   "execution_count": 313,
   "id": "5f1e5a12-9aec-4a1c-a44d-2085fe7f3e0a",
   "metadata": {},
   "outputs": [
    {
     "data": {
      "text/plain": [
       "(torch.Size([45, 1]),\n",
       " tensor([[0.5427],\n",
       "         [0.5118],\n",
       "         [0.4679],\n",
       "         [0.4564],\n",
       "         [0.4741],\n",
       "         [0.4491],\n",
       "         [0.5040],\n",
       "         [0.5119],\n",
       "         [0.4545],\n",
       "         [0.5845],\n",
       "         [0.5774],\n",
       "         [0.5430],\n",
       "         [0.5550],\n",
       "         [0.5088],\n",
       "         [0.5207],\n",
       "         [0.5174],\n",
       "         [0.5407],\n",
       "         [0.5389],\n",
       "         [0.5494],\n",
       "         [0.5204],\n",
       "         [0.5087],\n",
       "         [0.5603],\n",
       "         [0.5654],\n",
       "         [0.5541],\n",
       "         [0.5559],\n",
       "         [0.5135],\n",
       "         [0.5130],\n",
       "         [0.4133],\n",
       "         [0.3734],\n",
       "         [0.4444],\n",
       "         [0.3997],\n",
       "         [0.4493],\n",
       "         [0.4391],\n",
       "         [0.4161],\n",
       "         [0.3676],\n",
       "         [0.3767],\n",
       "         [0.3579],\n",
       "         [0.3960],\n",
       "         [0.4338],\n",
       "         [0.4360],\n",
       "         [0.3820],\n",
       "         [0.4332],\n",
       "         [0.3770],\n",
       "         [0.4424],\n",
       "         [0.4454]], grad_fn=<CatBackward0>))"
      ]
     },
     "execution_count": 313,
     "metadata": {},
     "output_type": "execute_result"
    }
   ],
   "source": [
    "# relation/concept predictions\n",
    "concept_predictions = indexer.predict_relations(encoders=relation_classifiers, embeddings=embeddings)\n",
    "concept_predictions.shape, concept_predictions"
   ]
  },
  {
   "cell_type": "code",
   "execution_count": 340,
   "id": "d4402b4d-907c-462b-b86f-baf8e43d2e5e",
   "metadata": {},
   "outputs": [
    {
     "data": {
      "text/plain": [
       "tensor([[0.4133],\n",
       "        [0.3734],\n",
       "        [0.4444],\n",
       "        [0.3997],\n",
       "        [0.4493],\n",
       "        [0.4391],\n",
       "        [0.4161],\n",
       "        [0.3676],\n",
       "        [0.3767],\n",
       "        [0.3579],\n",
       "        [0.3960],\n",
       "        [0.4338],\n",
       "        [0.4360],\n",
       "        [0.3820],\n",
       "        [0.4332],\n",
       "        [0.3770],\n",
       "        [0.4424],\n",
       "        [0.4454],\n",
       "        [0.5845],\n",
       "        [0.5774],\n",
       "        [0.5430],\n",
       "        [0.5550],\n",
       "        [0.5088],\n",
       "        [0.5207],\n",
       "        [0.5174],\n",
       "        [0.5407],\n",
       "        [0.5389],\n",
       "        [0.5494],\n",
       "        [0.5204],\n",
       "        [0.5087],\n",
       "        [0.5603],\n",
       "        [0.5654],\n",
       "        [0.5541],\n",
       "        [0.5559],\n",
       "        [0.5135],\n",
       "        [0.5130]], grad_fn=<ViewBackward0>)"
      ]
     },
     "execution_count": 340,
     "metadata": {},
     "output_type": "execute_result"
    }
   ],
   "source": [
    "c_preds = indexer.gather_and_concatenate(concept_predictions, indexer.indexed_queries[\"concepts\"], 0)\n",
    "c_preds"
   ]
  },
  {
   "cell_type": "code",
   "execution_count": 318,
   "id": "ec0008d6-13c7-481a-a282-aea179a4cff0",
   "metadata": {},
   "outputs": [
    {
     "data": {
      "text/plain": [
       "(18,\n",
       " 12,\n",
       " ((('correct', '2'),),\n",
       "  (('top', '2', '1'),\n",
       "   ('top', '1', '2'),\n",
       "   ('top', '2', '0'),\n",
       "   ('top', '0', '2'),\n",
       "   ('top', '1', '0'),\n",
       "   ('top', '0', '1'),\n",
       "   ('larger', '2', '1'),\n",
       "   ('larger', '1', '2'),\n",
       "   ('larger', '2', '0'),\n",
       "   ('larger', '0', '2'),\n",
       "   ('larger', '1', '0'),\n",
       "   ('larger', '0', '1'))))"
      ]
     },
     "execution_count": 318,
     "metadata": {},
     "output_type": "execute_result"
    }
   ],
   "source": [
    "len(groundings['phi'][0]), len(groundings['phi'][0][0][1]), groundings['phi'][0][0]"
   ]
  },
  {
   "cell_type": "code",
   "execution_count": 319,
   "id": "969dedf7-77ef-47ee-976d-9e5fb4e40f76",
   "metadata": {},
   "outputs": [
    {
     "data": {
      "text/plain": [
       "(torch.Size([18, 12]),\n",
       " tensor([[0.4391, 0.3997, 0.4493, 0.3734, 0.4444, 0.4133, 0.5207, 0.5550, 0.5088,\n",
       "          0.5774, 0.5430, 0.5845],\n",
       "         [0.3770, 0.4454, 0.4332, 0.4360, 0.4424, 0.3820, 0.5559, 0.5130, 0.5541,\n",
       "          0.5603, 0.5135, 0.5654],\n",
       "         [0.3676, 0.3960, 0.4161, 0.3767, 0.4338, 0.3579, 0.5407, 0.5204, 0.5174,\n",
       "          0.5389, 0.5087, 0.5494],\n",
       "         [0.3820, 0.4424, 0.4360, 0.4332, 0.4454, 0.3770, 0.5654, 0.5135, 0.5603,\n",
       "          0.5541, 0.5130, 0.5559],\n",
       "         [0.4454, 0.3770, 0.4424, 0.3820, 0.4332, 0.4360, 0.5130, 0.5559, 0.5135,\n",
       "          0.5654, 0.5541, 0.5603],\n",
       "         [0.4133, 0.4444, 0.3734, 0.4493, 0.3997, 0.4391, 0.5845, 0.5430, 0.5774,\n",
       "          0.5088, 0.5550, 0.5207],\n",
       "         [0.3579, 0.4338, 0.3767, 0.4161, 0.3960, 0.3676, 0.5494, 0.5087, 0.5389,\n",
       "          0.5174, 0.5204, 0.5407],\n",
       "         [0.3767, 0.4161, 0.3579, 0.4338, 0.3676, 0.3960, 0.5389, 0.5174, 0.5494,\n",
       "          0.5087, 0.5407, 0.5204],\n",
       "         [0.3960, 0.3676, 0.4338, 0.3579, 0.4161, 0.3767, 0.5204, 0.5407, 0.5087,\n",
       "          0.5494, 0.5174, 0.5389],\n",
       "         [0.3734, 0.4493, 0.4133, 0.4444, 0.4391, 0.3997, 0.5774, 0.5088, 0.5845,\n",
       "          0.5430, 0.5207, 0.5550],\n",
       "         [0.4360, 0.4332, 0.3820, 0.4424, 0.3770, 0.4454, 0.5603, 0.5541, 0.5654,\n",
       "          0.5135, 0.5559, 0.5130],\n",
       "         [0.4424, 0.3820, 0.4454, 0.3770, 0.4360, 0.4332, 0.5135, 0.5654, 0.5130,\n",
       "          0.5559, 0.5603, 0.5541],\n",
       "         [0.4161, 0.3767, 0.3676, 0.3960, 0.3579, 0.4338, 0.5174, 0.5389, 0.5407,\n",
       "          0.5204, 0.5494, 0.5087],\n",
       "         [0.4338, 0.3579, 0.3960, 0.3676, 0.3767, 0.4161, 0.5087, 0.5494, 0.5204,\n",
       "          0.5407, 0.5389, 0.5174],\n",
       "         [0.4493, 0.3734, 0.4391, 0.3997, 0.4133, 0.4444, 0.5088, 0.5774, 0.5207,\n",
       "          0.5550, 0.5845, 0.5430],\n",
       "         [0.4444, 0.4133, 0.3997, 0.4391, 0.3734, 0.4493, 0.5430, 0.5845, 0.5550,\n",
       "          0.5207, 0.5774, 0.5088],\n",
       "         [0.3997, 0.4391, 0.4444, 0.4133, 0.4493, 0.3734, 0.5550, 0.5207, 0.5430,\n",
       "          0.5845, 0.5088, 0.5774],\n",
       "         [0.4332, 0.4360, 0.3770, 0.4454, 0.3820, 0.4424, 0.5541, 0.5603, 0.5559,\n",
       "          0.5130, 0.5654, 0.5135]], grad_fn=<ViewBackward0>))"
      ]
     },
     "execution_count": 319,
     "metadata": {},
     "output_type": "execute_result"
    }
   ],
   "source": [
    "concept_preds_gathered = concept_predictions[indexer.indexed_bodies['phi']].view(indexer.indexed_bodies['phi'].shape[0], -1 )\n",
    "concept_preds_gathered.shape, concept_preds_gathered"
   ]
  },
  {
   "cell_type": "code",
   "execution_count": 329,
   "id": "c028d9ea-56c8-4c2b-84c0-a772029f8848",
   "metadata": {},
   "outputs": [
    {
     "data": {
      "text/plain": [
       "(18,\n",
       " 18,\n",
       " tensor([[2],\n",
       "         [7],\n",
       "         [3],\n",
       "         [6],\n",
       "         [8],\n",
       "         [0],\n",
       "         [4],\n",
       "         [4],\n",
       "         [5],\n",
       "         [0],\n",
       "         [6],\n",
       "         [8],\n",
       "         [3],\n",
       "         [5],\n",
       "         [2],\n",
       "         [1],\n",
       "         [1],\n",
       "         [7]]),\n",
       " tensor([[0.4359],\n",
       "         [0.4376],\n",
       "         [0.4372],\n",
       "         [0.4376],\n",
       "         [0.4355],\n",
       "         [0.4404],\n",
       "         [0.4396],\n",
       "         [0.4401],\n",
       "         [0.4360],\n",
       "         [0.4391],\n",
       "         [0.4396],\n",
       "         [0.4355],\n",
       "         [0.4390],\n",
       "         [0.4375],\n",
       "         [0.4359],\n",
       "         [0.4388],\n",
       "         [0.4373],\n",
       "         [0.4398]], grad_fn=<SigmoidBackward0>))"
      ]
     },
     "execution_count": 329,
     "metadata": {},
     "output_type": "execute_result"
    }
   ],
   "source": [
    "grounding_preds = reasoner(concept_preds_gathered)\n",
    "len(grounding_preds), len(indexer.indexed_heads['phi'].view(-1, 1)), indexer.indexed_heads['phi'].view(-1, 1), grounding_preds"
   ]
  },
  {
   "cell_type": "code",
   "execution_count": 338,
   "id": "0f9170bb-5cab-4c3e-b528-a5689610ed35",
   "metadata": {},
   "outputs": [
    {
     "data": {
      "text/plain": [
       "(torch.Size([45, 1]),\n",
       " torch.Size([45, 1]),\n",
       " tensor([9]),\n",
       " tensor([[0.4404],\n",
       "         [0.4388],\n",
       "         [0.4359],\n",
       "         [0.4390],\n",
       "         [0.4401],\n",
       "         [0.4375],\n",
       "         [0.4396],\n",
       "         [0.4398],\n",
       "         [0.4355],\n",
       "         [0.0000],\n",
       "         [0.0000],\n",
       "         [0.0000],\n",
       "         [0.0000],\n",
       "         [0.0000],\n",
       "         [0.0000],\n",
       "         [0.0000],\n",
       "         [0.0000],\n",
       "         [0.0000],\n",
       "         [0.0000],\n",
       "         [0.0000],\n",
       "         [0.0000],\n",
       "         [0.0000],\n",
       "         [0.0000],\n",
       "         [0.0000],\n",
       "         [0.0000],\n",
       "         [0.0000],\n",
       "         [0.0000],\n",
       "         [0.0000],\n",
       "         [0.0000],\n",
       "         [0.0000],\n",
       "         [0.0000],\n",
       "         [0.0000],\n",
       "         [0.0000],\n",
       "         [0.0000],\n",
       "         [0.0000],\n",
       "         [0.0000],\n",
       "         [0.0000],\n",
       "         [0.0000],\n",
       "         [0.0000],\n",
       "         [0.0000],\n",
       "         [0.0000],\n",
       "         [0.0000],\n",
       "         [0.0000],\n",
       "         [0.0000],\n",
       "         [0.0000]], grad_fn=<ScatterReduceBackward0>))"
      ]
     },
     "execution_count": 338,
     "metadata": {},
     "output_type": "execute_result"
    }
   ],
   "source": [
    "# this operation aggregates indicized predictions\n",
    "# grouped_or = logic.disj_scatter(grounding_preds.view(-1, 1),\n",
    "#                                 indexer.indexed_heads['phi'],\n",
    "#                                 len(indexer.atom_index))\n",
    "grounding_preds_agg = torch.zeros(len(indexer.atom_index), 1)\n",
    "task_predictions = grounding_preds_agg.scatter_reduce(0, indexer.indexed_heads['phi'].view(-1, 1), grounding_preds.view(-1, 1), reduce='amax')\n",
    "task_predictions.shape, grouped_or.shape, sum(grouped_or!=0), grouped_or"
   ]
  },
  {
   "cell_type": "code",
   "execution_count": 339,
   "id": "9278c06c-64e9-4f3d-96ca-c4e152e4e51a",
   "metadata": {},
   "outputs": [
    {
     "data": {
      "text/plain": [
       "tensor([[0.4388],\n",
       "        [0.4401],\n",
       "        [0.4398]], grad_fn=<ViewBackward0>)"
      ]
     },
     "execution_count": 339,
     "metadata": {},
     "output_type": "execute_result"
    }
   ],
   "source": [
    "y_preds = indexer.gather_and_concatenate(task_predictions, indexer.indexed_queries[\"tasks\"], 0)\n",
    "y_preds"
   ]
  }
 ],
 "metadata": {
  "kernelspec": {
   "display_name": "Python 3 (ipykernel)",
   "language": "python",
   "name": "python3"
  },
  "language_info": {
   "codemirror_mode": {
    "name": "ipython",
    "version": 3
   },
   "file_extension": ".py",
   "mimetype": "text/x-python",
   "name": "python",
   "nbconvert_exporter": "python",
   "pygments_lexer": "ipython3",
   "version": "3.8.18"
  }
 },
 "nbformat": 4,
 "nbformat_minor": 5
}
